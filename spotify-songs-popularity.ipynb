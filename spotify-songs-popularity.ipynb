{
  "cells": [
    {
      "cell_type": "code",
      "execution_count": null,
      "metadata": {
        "id": "pk7SdXb95h8_"
      },
      "outputs": [],
      "source": [
        "import pandas as pd"
      ]
    },
    {
      "cell_type": "code",
      "execution_count": null,
      "metadata": {
        "id": "Zb8pSUJ65pZz"
      },
      "outputs": [],
      "source": [
        "import numpy as np"
      ]
    },
    {
      "cell_type": "code",
      "execution_count": null,
      "metadata": {
        "id": "mcQFKFHo5uKr"
      },
      "outputs": [],
      "source": [
        "import random"
      ]
    },
    {
      "cell_type": "code",
      "execution_count": null,
      "metadata": {
        "id": "9d4MQGrp7pWa"
      },
      "outputs": [],
      "source": [
        "from sklearn.model_selection import train_test_split"
      ]
    },
    {
      "cell_type": "code",
      "execution_count": null,
      "metadata": {
        "id": "r5eNo0VA7ufB"
      },
      "outputs": [],
      "source": [
        "from sklearn.ensemble import RandomForestRegressor"
      ]
    },
    {
      "cell_type": "code",
      "execution_count": null,
      "metadata": {
        "id": "tGjtTK947xOx"
      },
      "outputs": [],
      "source": [
        "from sklearn.tree import DecisionTreeRegressor"
      ]
    },
    {
      "cell_type": "code",
      "execution_count": null,
      "metadata": {
        "id": "vZqtDxO87zlo"
      },
      "outputs": [],
      "source": [
        "from sklearn.linear_model import LinearRegression, SGDRegressor"
      ]
    },
    {
      "cell_type": "code",
      "execution_count": null,
      "metadata": {
        "id": "hi4GzLF9725Q"
      },
      "outputs": [],
      "source": [
        "from sklearn.svm import SVR"
      ]
    },
    {
      "cell_type": "code",
      "execution_count": null,
      "metadata": {
        "id": "SpiheAWw76i_"
      },
      "outputs": [],
      "source": [
        "import seaborn as sns"
      ]
    },
    {
      "cell_type": "code",
      "execution_count": null,
      "metadata": {
        "id": "nIFYLbWJ8kyY"
      },
      "outputs": [],
      "source": [
        "import matplotlib.pyplot as plt"
      ]
    },
    {
      "cell_type": "code",
      "execution_count": null,
      "metadata": {
        "id": "D7WGkf-68pNJ"
      },
      "outputs": [],
      "source": [
        "import plotly.express as px"
      ]
    },
    {
      "cell_type": "code",
      "execution_count": 13,
      "metadata": {
        "id": "L_KPIP4n8ybQ"
      },
      "outputs": [],
      "source": [
        "sd = pd.read_csv('/content/spotify_songs.csv', index_col=0)"
      ]
    },
    {
      "cell_type": "code",
      "execution_count": 14,
      "metadata": {
        "colab": {
          "base_uri": "https://localhost:8080/",
          "height": 407
        },
        "id": "cbMrG-fYBViE",
        "outputId": "e39b3286-2716-489d-f256-4548270ee263"
      },
      "outputs": [
        {
          "data": {
            "text/html": [
              "\n",
              "  <div id=\"df-ace4c2e8-5070-4794-884e-90c2c98cd118\">\n",
              "    <div class=\"colab-df-container\">\n",
              "      <div>\n",
              "<style scoped>\n",
              "    .dataframe tbody tr th:only-of-type {\n",
              "        vertical-align: middle;\n",
              "    }\n",
              "\n",
              "    .dataframe tbody tr th {\n",
              "        vertical-align: top;\n",
              "    }\n",
              "\n",
              "    .dataframe thead th {\n",
              "        text-align: right;\n",
              "    }\n",
              "</style>\n",
              "<table border=\"1\" class=\"dataframe\">\n",
              "  <thead>\n",
              "    <tr style=\"text-align: right;\">\n",
              "      <th></th>\n",
              "      <th>track_name</th>\n",
              "      <th>track_artist</th>\n",
              "      <th>track_popularity</th>\n",
              "      <th>track_album_id</th>\n",
              "      <th>track_album_name</th>\n",
              "      <th>track_album_release_date</th>\n",
              "      <th>playlist_name</th>\n",
              "      <th>playlist_id</th>\n",
              "      <th>playlist_genre</th>\n",
              "      <th>playlist_subgenre</th>\n",
              "      <th>...</th>\n",
              "      <th>key</th>\n",
              "      <th>loudness</th>\n",
              "      <th>mode</th>\n",
              "      <th>speechiness</th>\n",
              "      <th>acousticness</th>\n",
              "      <th>instrumentalness</th>\n",
              "      <th>liveness</th>\n",
              "      <th>valence</th>\n",
              "      <th>tempo</th>\n",
              "      <th>duration_ms</th>\n",
              "    </tr>\n",
              "    <tr>\n",
              "      <th>track_id</th>\n",
              "      <th></th>\n",
              "      <th></th>\n",
              "      <th></th>\n",
              "      <th></th>\n",
              "      <th></th>\n",
              "      <th></th>\n",
              "      <th></th>\n",
              "      <th></th>\n",
              "      <th></th>\n",
              "      <th></th>\n",
              "      <th></th>\n",
              "      <th></th>\n",
              "      <th></th>\n",
              "      <th></th>\n",
              "      <th></th>\n",
              "      <th></th>\n",
              "      <th></th>\n",
              "      <th></th>\n",
              "      <th></th>\n",
              "      <th></th>\n",
              "      <th></th>\n",
              "    </tr>\n",
              "  </thead>\n",
              "  <tbody>\n",
              "    <tr>\n",
              "      <th>6f807x0ima9a1j3VPbc7VN</th>\n",
              "      <td>I Don't Care (with Justin Bieber) - Loud Luxur...</td>\n",
              "      <td>Ed Sheeran</td>\n",
              "      <td>66</td>\n",
              "      <td>2oCs0DGTsRO98Gh5ZSl2Cx</td>\n",
              "      <td>I Don't Care (with Justin Bieber) [Loud Luxury...</td>\n",
              "      <td>2019-06-14</td>\n",
              "      <td>Pop Remix</td>\n",
              "      <td>37i9dQZF1DXcZDD7cfEKhW</td>\n",
              "      <td>pop</td>\n",
              "      <td>dance pop</td>\n",
              "      <td>...</td>\n",
              "      <td>6</td>\n",
              "      <td>-2.634</td>\n",
              "      <td>1</td>\n",
              "      <td>0.0583</td>\n",
              "      <td>0.1020</td>\n",
              "      <td>0.000000</td>\n",
              "      <td>0.0653</td>\n",
              "      <td>0.518</td>\n",
              "      <td>122.036</td>\n",
              "      <td>194754</td>\n",
              "    </tr>\n",
              "    <tr>\n",
              "      <th>0r7CVbZTWZgbTCYdfa2P31</th>\n",
              "      <td>Memories - Dillon Francis Remix</td>\n",
              "      <td>Maroon 5</td>\n",
              "      <td>67</td>\n",
              "      <td>63rPSO264uRjW1X5E6cWv6</td>\n",
              "      <td>Memories (Dillon Francis Remix)</td>\n",
              "      <td>2019-12-13</td>\n",
              "      <td>Pop Remix</td>\n",
              "      <td>37i9dQZF1DXcZDD7cfEKhW</td>\n",
              "      <td>pop</td>\n",
              "      <td>dance pop</td>\n",
              "      <td>...</td>\n",
              "      <td>11</td>\n",
              "      <td>-4.969</td>\n",
              "      <td>1</td>\n",
              "      <td>0.0373</td>\n",
              "      <td>0.0724</td>\n",
              "      <td>0.004210</td>\n",
              "      <td>0.3570</td>\n",
              "      <td>0.693</td>\n",
              "      <td>99.972</td>\n",
              "      <td>162600</td>\n",
              "    </tr>\n",
              "    <tr>\n",
              "      <th>1z1Hg7Vb0AhHDiEmnDE79l</th>\n",
              "      <td>All the Time - Don Diablo Remix</td>\n",
              "      <td>Zara Larsson</td>\n",
              "      <td>70</td>\n",
              "      <td>1HoSmj2eLcsrR0vE9gThr4</td>\n",
              "      <td>All the Time (Don Diablo Remix)</td>\n",
              "      <td>2019-07-05</td>\n",
              "      <td>Pop Remix</td>\n",
              "      <td>37i9dQZF1DXcZDD7cfEKhW</td>\n",
              "      <td>pop</td>\n",
              "      <td>dance pop</td>\n",
              "      <td>...</td>\n",
              "      <td>1</td>\n",
              "      <td>-3.432</td>\n",
              "      <td>0</td>\n",
              "      <td>0.0742</td>\n",
              "      <td>0.0794</td>\n",
              "      <td>0.000023</td>\n",
              "      <td>0.1100</td>\n",
              "      <td>0.613</td>\n",
              "      <td>124.008</td>\n",
              "      <td>176616</td>\n",
              "    </tr>\n",
              "  </tbody>\n",
              "</table>\n",
              "<p>3 rows × 22 columns</p>\n",
              "</div>\n",
              "      <button class=\"colab-df-convert\" onclick=\"convertToInteractive('df-ace4c2e8-5070-4794-884e-90c2c98cd118')\"\n",
              "              title=\"Convert this dataframe to an interactive table.\"\n",
              "              style=\"display:none;\">\n",
              "        \n",
              "  <svg xmlns=\"http://www.w3.org/2000/svg\" height=\"24px\"viewBox=\"0 0 24 24\"\n",
              "       width=\"24px\">\n",
              "    <path d=\"M0 0h24v24H0V0z\" fill=\"none\"/>\n",
              "    <path d=\"M18.56 5.44l.94 2.06.94-2.06 2.06-.94-2.06-.94-.94-2.06-.94 2.06-2.06.94zm-11 1L8.5 8.5l.94-2.06 2.06-.94-2.06-.94L8.5 2.5l-.94 2.06-2.06.94zm10 10l.94 2.06.94-2.06 2.06-.94-2.06-.94-.94-2.06-.94 2.06-2.06.94z\"/><path d=\"M17.41 7.96l-1.37-1.37c-.4-.4-.92-.59-1.43-.59-.52 0-1.04.2-1.43.59L10.3 9.45l-7.72 7.72c-.78.78-.78 2.05 0 2.83L4 21.41c.39.39.9.59 1.41.59.51 0 1.02-.2 1.41-.59l7.78-7.78 2.81-2.81c.8-.78.8-2.07 0-2.86zM5.41 20L4 18.59l7.72-7.72 1.47 1.35L5.41 20z\"/>\n",
              "  </svg>\n",
              "      </button>\n",
              "      \n",
              "  <style>\n",
              "    .colab-df-container {\n",
              "      display:flex;\n",
              "      flex-wrap:wrap;\n",
              "      gap: 12px;\n",
              "    }\n",
              "\n",
              "    .colab-df-convert {\n",
              "      background-color: #E8F0FE;\n",
              "      border: none;\n",
              "      border-radius: 50%;\n",
              "      cursor: pointer;\n",
              "      display: none;\n",
              "      fill: #1967D2;\n",
              "      height: 32px;\n",
              "      padding: 0 0 0 0;\n",
              "      width: 32px;\n",
              "    }\n",
              "\n",
              "    .colab-df-convert:hover {\n",
              "      background-color: #E2EBFA;\n",
              "      box-shadow: 0px 1px 2px rgba(60, 64, 67, 0.3), 0px 1px 3px 1px rgba(60, 64, 67, 0.15);\n",
              "      fill: #174EA6;\n",
              "    }\n",
              "\n",
              "    [theme=dark] .colab-df-convert {\n",
              "      background-color: #3B4455;\n",
              "      fill: #D2E3FC;\n",
              "    }\n",
              "\n",
              "    [theme=dark] .colab-df-convert:hover {\n",
              "      background-color: #434B5C;\n",
              "      box-shadow: 0px 1px 3px 1px rgba(0, 0, 0, 0.15);\n",
              "      filter: drop-shadow(0px 1px 2px rgba(0, 0, 0, 0.3));\n",
              "      fill: #FFFFFF;\n",
              "    }\n",
              "  </style>\n",
              "\n",
              "      <script>\n",
              "        const buttonEl =\n",
              "          document.querySelector('#df-ace4c2e8-5070-4794-884e-90c2c98cd118 button.colab-df-convert');\n",
              "        buttonEl.style.display =\n",
              "          google.colab.kernel.accessAllowed ? 'block' : 'none';\n",
              "\n",
              "        async function convertToInteractive(key) {\n",
              "          const element = document.querySelector('#df-ace4c2e8-5070-4794-884e-90c2c98cd118');\n",
              "          const dataTable =\n",
              "            await google.colab.kernel.invokeFunction('convertToInteractive',\n",
              "                                                     [key], {});\n",
              "          if (!dataTable) return;\n",
              "\n",
              "          const docLinkHtml = 'Like what you see? Visit the ' +\n",
              "            '<a target=\"_blank\" href=https://colab.research.google.com/notebooks/data_table.ipynb>data table notebook</a>'\n",
              "            + ' to learn more about interactive tables.';\n",
              "          element.innerHTML = '';\n",
              "          dataTable['output_type'] = 'display_data';\n",
              "          await google.colab.output.renderOutput(dataTable, element);\n",
              "          const docLink = document.createElement('div');\n",
              "          docLink.innerHTML = docLinkHtml;\n",
              "          element.appendChild(docLink);\n",
              "        }\n",
              "      </script>\n",
              "    </div>\n",
              "  </div>\n",
              "  "
            ],
            "text/plain": [
              "                                                               track_name  \\\n",
              "track_id                                                                    \n",
              "6f807x0ima9a1j3VPbc7VN  I Don't Care (with Justin Bieber) - Loud Luxur...   \n",
              "0r7CVbZTWZgbTCYdfa2P31                    Memories - Dillon Francis Remix   \n",
              "1z1Hg7Vb0AhHDiEmnDE79l                    All the Time - Don Diablo Remix   \n",
              "\n",
              "                        track_artist  track_popularity  \\\n",
              "track_id                                                 \n",
              "6f807x0ima9a1j3VPbc7VN    Ed Sheeran                66   \n",
              "0r7CVbZTWZgbTCYdfa2P31      Maroon 5                67   \n",
              "1z1Hg7Vb0AhHDiEmnDE79l  Zara Larsson                70   \n",
              "\n",
              "                                track_album_id  \\\n",
              "track_id                                         \n",
              "6f807x0ima9a1j3VPbc7VN  2oCs0DGTsRO98Gh5ZSl2Cx   \n",
              "0r7CVbZTWZgbTCYdfa2P31  63rPSO264uRjW1X5E6cWv6   \n",
              "1z1Hg7Vb0AhHDiEmnDE79l  1HoSmj2eLcsrR0vE9gThr4   \n",
              "\n",
              "                                                         track_album_name  \\\n",
              "track_id                                                                    \n",
              "6f807x0ima9a1j3VPbc7VN  I Don't Care (with Justin Bieber) [Loud Luxury...   \n",
              "0r7CVbZTWZgbTCYdfa2P31                    Memories (Dillon Francis Remix)   \n",
              "1z1Hg7Vb0AhHDiEmnDE79l                    All the Time (Don Diablo Remix)   \n",
              "\n",
              "                       track_album_release_date playlist_name  \\\n",
              "track_id                                                        \n",
              "6f807x0ima9a1j3VPbc7VN               2019-06-14     Pop Remix   \n",
              "0r7CVbZTWZgbTCYdfa2P31               2019-12-13     Pop Remix   \n",
              "1z1Hg7Vb0AhHDiEmnDE79l               2019-07-05     Pop Remix   \n",
              "\n",
              "                                   playlist_id playlist_genre  \\\n",
              "track_id                                                        \n",
              "6f807x0ima9a1j3VPbc7VN  37i9dQZF1DXcZDD7cfEKhW            pop   \n",
              "0r7CVbZTWZgbTCYdfa2P31  37i9dQZF1DXcZDD7cfEKhW            pop   \n",
              "1z1Hg7Vb0AhHDiEmnDE79l  37i9dQZF1DXcZDD7cfEKhW            pop   \n",
              "\n",
              "                       playlist_subgenre  ...  key  loudness  mode  \\\n",
              "track_id                                  ...                        \n",
              "6f807x0ima9a1j3VPbc7VN         dance pop  ...    6    -2.634     1   \n",
              "0r7CVbZTWZgbTCYdfa2P31         dance pop  ...   11    -4.969     1   \n",
              "1z1Hg7Vb0AhHDiEmnDE79l         dance pop  ...    1    -3.432     0   \n",
              "\n",
              "                        speechiness  acousticness  instrumentalness  liveness  \\\n",
              "track_id                                                                        \n",
              "6f807x0ima9a1j3VPbc7VN       0.0583        0.1020          0.000000    0.0653   \n",
              "0r7CVbZTWZgbTCYdfa2P31       0.0373        0.0724          0.004210    0.3570   \n",
              "1z1Hg7Vb0AhHDiEmnDE79l       0.0742        0.0794          0.000023    0.1100   \n",
              "\n",
              "                        valence    tempo  duration_ms  \n",
              "track_id                                               \n",
              "6f807x0ima9a1j3VPbc7VN    0.518  122.036       194754  \n",
              "0r7CVbZTWZgbTCYdfa2P31    0.693   99.972       162600  \n",
              "1z1Hg7Vb0AhHDiEmnDE79l    0.613  124.008       176616  \n",
              "\n",
              "[3 rows x 22 columns]"
            ]
          },
          "execution_count": 14,
          "metadata": {},
          "output_type": "execute_result"
        }
      ],
      "source": [
        "sd.head(3)"
      ]
    },
    {
      "cell_type": "code",
      "execution_count": 15,
      "metadata": {
        "colab": {
          "base_uri": "https://localhost:8080/"
        },
        "id": "9UjBnn3KBjwp",
        "outputId": "ce91a1fa-2fd1-4bf6-b204-e01eeec64cad"
      },
      "outputs": [
        {
          "name": "stdout",
          "output_type": "stream",
          "text": [
            "<class 'pandas.core.frame.DataFrame'>\n",
            "Index: 4348 entries, 6f807x0ima9a1j3VPbc7VN to 2Pph0CUJ8uksCBzV6iyuQF\n",
            "Data columns (total 22 columns):\n",
            " #   Column                    Non-Null Count  Dtype  \n",
            "---  ------                    --------------  -----  \n",
            " 0   track_name                4348 non-null   object \n",
            " 1   track_artist              4348 non-null   object \n",
            " 2   track_popularity          4348 non-null   int64  \n",
            " 3   track_album_id            4348 non-null   object \n",
            " 4   track_album_name          4348 non-null   object \n",
            " 5   track_album_release_date  4348 non-null   object \n",
            " 6   playlist_name             4348 non-null   object \n",
            " 7   playlist_id               4348 non-null   object \n",
            " 8   playlist_genre            4348 non-null   object \n",
            " 9   playlist_subgenre         4348 non-null   object \n",
            " 10  danceability              4348 non-null   float64\n",
            " 11  energy                    4348 non-null   float64\n",
            " 12  key                       4348 non-null   int64  \n",
            " 13  loudness                  4348 non-null   float64\n",
            " 14  mode                      4348 non-null   int64  \n",
            " 15  speechiness               4348 non-null   float64\n",
            " 16  acousticness              4348 non-null   float64\n",
            " 17  instrumentalness          4348 non-null   float64\n",
            " 18  liveness                  4348 non-null   float64\n",
            " 19  valence                   4348 non-null   float64\n",
            " 20  tempo                     4348 non-null   float64\n",
            " 21  duration_ms               4348 non-null   int64  \n",
            "dtypes: float64(9), int64(4), object(9)\n",
            "memory usage: 781.3+ KB\n"
          ]
        }
      ],
      "source": [
        "sd.info()"
      ]
    },
    {
      "cell_type": "code",
      "execution_count": 16,
      "metadata": {
        "colab": {
          "base_uri": "https://localhost:8080/",
          "height": 54
        },
        "id": "aDdVm7tbB2Vn",
        "outputId": "71c97085-f1b7-4c61-809e-15cdabbb1c8b"
      },
      "outputs": [
        {
          "data": {
            "text/plain": [
              "<Figure size 1440x720 with 0 Axes>"
            ]
          },
          "execution_count": 16,
          "metadata": {},
          "output_type": "execute_result"
        },
        {
          "data": {
            "text/plain": [
              "<Figure size 1440x720 with 0 Axes>"
            ]
          },
          "metadata": {},
          "output_type": "display_data"
        }
      ],
      "source": [
        "plt.figure(figsize=(20, 10))"
      ]
    },
    {
      "cell_type": "code",
      "execution_count": 17,
      "metadata": {
        "colab": {
          "base_uri": "https://localhost:8080/",
          "height": 298
        },
        "id": "KAS0qAvQChty",
        "outputId": "dd53b978-309f-4e53-e81e-77c7676b15dc"
      },
      "outputs": [
        {
          "data": {
            "text/plain": [
              "<matplotlib.axes._subplots.AxesSubplot at 0x7f0c659ef8e0>"
            ]
          },
          "execution_count": 17,
          "metadata": {},
          "output_type": "execute_result"
        },
        {
          "data": {
            "image/png": "[encoded data removed]",
            "text/plain": [
              "<Figure size 432x288 with 1 Axes>"
            ]
          },
          "metadata": {
            "needs_background": "light"
          },
          "output_type": "display_data"
        }
      ],
      "source": [
        "sns.histplot(sd[\"track_popularity\"],bins='auto')"
      ]
    },
    {
      "cell_type": "code",
      "execution_count": 18,
      "metadata": {
        "colab": {
          "base_uri": "https://localhost:8080/",
          "height": 593
        },
        "id": "pDeyE0mhGKDM",
        "outputId": "0b9d9cf3-e4aa-4340-c261-7fc78ba92bfb"
      },
      "outputs": [
        {
          "data": {
            "text/plain": [
              "<matplotlib.axes._subplots.AxesSubplot at 0x7f0c766223d0>"
            ]
          },
          "execution_count": 18,
          "metadata": {},
          "output_type": "execute_result"
        },
        {
          "data": {
            "image/png": "[encoded data removed]",
            "text/plain": [
              "<Figure size 1152x576 with 2 Axes>"
            ]
          },
          "metadata": {
            "needs_background": "light"
          },
          "output_type": "display_data"
        }
      ],
      "source": [
        "plt.figure(figsize=(16,8))\n",
        "sns.set(style=\"whitegrid\")\n",
        "corr = sd.corr()\n",
        "sns.heatmap(corr,annot=True,cmap=\"coolwarm\")"
      ]
    },
    {
      "cell_type": "code",
      "execution_count": 19,
      "metadata": {
        "colab": {
          "base_uri": "https://localhost:8080/"
        },
        "id": "qmwHSWmplk8o",
        "outputId": "96c8119f-dd65-4b64-d644-515a9ca87d7d"
      },
      "outputs": [
        {
          "data": {
            "text/plain": [
              "track_id\n",
              "6f807x0ima9a1j3VPbc7VN   2019-06-14\n",
              "0r7CVbZTWZgbTCYdfa2P31   2019-12-13\n",
              "1z1Hg7Vb0AhHDiEmnDE79l   2019-07-05\n",
              "75FpbthrwQmzHlBJLuGdC7   2019-07-19\n",
              "1e8PAfcKUYoKkxPhrHqw4x   2019-03-05\n",
              "                            ...    \n",
              "7nnpU2iHbi2k23GNPJMKUM   2020-01-01\n",
              "4Y36xj2AyVRguhrGB1Linl   2020-01-10\n",
              "1WGimYNx7U5q68rL0nnEAF   2019-10-18\n",
              "3a1Zmq0P1E6W80x8EOcVNP   2019-02-15\n",
              "2Pph0CUJ8uksCBzV6iyuQF   2019-02-08\n",
              "Name: track_album_release_date, Length: 4348, dtype: datetime64[ns]"
            ]
          },
          "execution_count": 19,
          "metadata": {},
          "output_type": "execute_result"
        }
      ],
      "source": [
        "pd.to_datetime(sd['track_album_release_date'])"
      ]
    },
    {
      "cell_type": "code",
      "execution_count": 20,
      "metadata": {
        "colab": {
          "base_uri": "https://localhost:8080/",
          "height": 574
        },
        "id": "4lr13cWrA8dp",
        "outputId": "22081f41-5570-490f-eb9e-cc6026f3f7ce"
      },
      "outputs": [
        {
          "data": {
            "text/html": [
              "\n",
              "  <div id=\"df-3b00ed85-4f60-4297-8852-239a63bd99ce\">\n",
              "    <div class=\"colab-df-container\">\n",
              "      <div>\n",
              "<style scoped>\n",
              "    .dataframe tbody tr th:only-of-type {\n",
              "        vertical-align: middle;\n",
              "    }\n",
              "\n",
              "    .dataframe tbody tr th {\n",
              "        vertical-align: top;\n",
              "    }\n",
              "\n",
              "    .dataframe thead th {\n",
              "        text-align: right;\n",
              "    }\n",
              "</style>\n",
              "<table border=\"1\" class=\"dataframe\">\n",
              "  <thead>\n",
              "    <tr style=\"text-align: right;\">\n",
              "      <th></th>\n",
              "      <th>track_name</th>\n",
              "      <th>track_artist</th>\n",
              "      <th>track_popularity</th>\n",
              "      <th>track_album_id</th>\n",
              "      <th>track_album_name</th>\n",
              "      <th>track_album_release_date</th>\n",
              "      <th>playlist_name</th>\n",
              "      <th>playlist_id</th>\n",
              "      <th>playlist_genre</th>\n",
              "      <th>playlist_subgenre</th>\n",
              "      <th>...</th>\n",
              "      <th>key</th>\n",
              "      <th>loudness</th>\n",
              "      <th>mode</th>\n",
              "      <th>speechiness</th>\n",
              "      <th>acousticness</th>\n",
              "      <th>instrumentalness</th>\n",
              "      <th>liveness</th>\n",
              "      <th>valence</th>\n",
              "      <th>tempo</th>\n",
              "      <th>duration_ms</th>\n",
              "    </tr>\n",
              "    <tr>\n",
              "      <th>track_id</th>\n",
              "      <th></th>\n",
              "      <th></th>\n",
              "      <th></th>\n",
              "      <th></th>\n",
              "      <th></th>\n",
              "      <th></th>\n",
              "      <th></th>\n",
              "      <th></th>\n",
              "      <th></th>\n",
              "      <th></th>\n",
              "      <th></th>\n",
              "      <th></th>\n",
              "      <th></th>\n",
              "      <th></th>\n",
              "      <th></th>\n",
              "      <th></th>\n",
              "      <th></th>\n",
              "      <th></th>\n",
              "      <th></th>\n",
              "      <th></th>\n",
              "      <th></th>\n",
              "    </tr>\n",
              "  </thead>\n",
              "  <tbody>\n",
              "    <tr>\n",
              "      <th>6f807x0ima9a1j3VPbc7VN</th>\n",
              "      <td>I Don't Care (with Justin Bieber) - Loud Luxur...</td>\n",
              "      <td>Ed Sheeran</td>\n",
              "      <td>66</td>\n",
              "      <td>2oCs0DGTsRO98Gh5ZSl2Cx</td>\n",
              "      <td>I Don't Care (with Justin Bieber) [Loud Luxury...</td>\n",
              "      <td>2019-06-14</td>\n",
              "      <td>Pop Remix</td>\n",
              "      <td>37i9dQZF1DXcZDD7cfEKhW</td>\n",
              "      <td>pop</td>\n",
              "      <td>dance pop</td>\n",
              "      <td>...</td>\n",
              "      <td>6</td>\n",
              "      <td>-2.634</td>\n",
              "      <td>1</td>\n",
              "      <td>0.0583</td>\n",
              "      <td>0.1020</td>\n",
              "      <td>0.000000</td>\n",
              "      <td>0.0653</td>\n",
              "      <td>0.518</td>\n",
              "      <td>122.036</td>\n",
              "      <td>194754</td>\n",
              "    </tr>\n",
              "    <tr>\n",
              "      <th>0r7CVbZTWZgbTCYdfa2P31</th>\n",
              "      <td>Memories - Dillon Francis Remix</td>\n",
              "      <td>Maroon 5</td>\n",
              "      <td>67</td>\n",
              "      <td>63rPSO264uRjW1X5E6cWv6</td>\n",
              "      <td>Memories (Dillon Francis Remix)</td>\n",
              "      <td>2019-12-13</td>\n",
              "      <td>Pop Remix</td>\n",
              "      <td>37i9dQZF1DXcZDD7cfEKhW</td>\n",
              "      <td>pop</td>\n",
              "      <td>dance pop</td>\n",
              "      <td>...</td>\n",
              "      <td>11</td>\n",
              "      <td>-4.969</td>\n",
              "      <td>1</td>\n",
              "      <td>0.0373</td>\n",
              "      <td>0.0724</td>\n",
              "      <td>0.004210</td>\n",
              "      <td>0.3570</td>\n",
              "      <td>0.693</td>\n",
              "      <td>99.972</td>\n",
              "      <td>162600</td>\n",
              "    </tr>\n",
              "    <tr>\n",
              "      <th>1z1Hg7Vb0AhHDiEmnDE79l</th>\n",
              "      <td>All the Time - Don Diablo Remix</td>\n",
              "      <td>Zara Larsson</td>\n",
              "      <td>70</td>\n",
              "      <td>1HoSmj2eLcsrR0vE9gThr4</td>\n",
              "      <td>All the Time (Don Diablo Remix)</td>\n",
              "      <td>2019-07-05</td>\n",
              "      <td>Pop Remix</td>\n",
              "      <td>37i9dQZF1DXcZDD7cfEKhW</td>\n",
              "      <td>pop</td>\n",
              "      <td>dance pop</td>\n",
              "      <td>...</td>\n",
              "      <td>1</td>\n",
              "      <td>-3.432</td>\n",
              "      <td>0</td>\n",
              "      <td>0.0742</td>\n",
              "      <td>0.0794</td>\n",
              "      <td>0.000023</td>\n",
              "      <td>0.1100</td>\n",
              "      <td>0.613</td>\n",
              "      <td>124.008</td>\n",
              "      <td>176616</td>\n",
              "    </tr>\n",
              "    <tr>\n",
              "      <th>75FpbthrwQmzHlBJLuGdC7</th>\n",
              "      <td>Call You Mine - Keanu Silva Remix</td>\n",
              "      <td>The Chainsmokers</td>\n",
              "      <td>60</td>\n",
              "      <td>1nqYsOef1yKKuGOVchbsk6</td>\n",
              "      <td>Call You Mine - The Remixes</td>\n",
              "      <td>2019-07-19</td>\n",
              "      <td>Pop Remix</td>\n",
              "      <td>37i9dQZF1DXcZDD7cfEKhW</td>\n",
              "      <td>pop</td>\n",
              "      <td>dance pop</td>\n",
              "      <td>...</td>\n",
              "      <td>7</td>\n",
              "      <td>-3.778</td>\n",
              "      <td>1</td>\n",
              "      <td>0.1020</td>\n",
              "      <td>0.0287</td>\n",
              "      <td>0.000009</td>\n",
              "      <td>0.2040</td>\n",
              "      <td>0.277</td>\n",
              "      <td>121.956</td>\n",
              "      <td>169093</td>\n",
              "    </tr>\n",
              "    <tr>\n",
              "      <th>1e8PAfcKUYoKkxPhrHqw4x</th>\n",
              "      <td>Someone You Loved - Future Humans Remix</td>\n",
              "      <td>Lewis Capaldi</td>\n",
              "      <td>69</td>\n",
              "      <td>7m7vv9wlQ4i0LFuJiE2zsQ</td>\n",
              "      <td>Someone You Loved (Future Humans Remix)</td>\n",
              "      <td>2019-03-05</td>\n",
              "      <td>Pop Remix</td>\n",
              "      <td>37i9dQZF1DXcZDD7cfEKhW</td>\n",
              "      <td>pop</td>\n",
              "      <td>dance pop</td>\n",
              "      <td>...</td>\n",
              "      <td>1</td>\n",
              "      <td>-4.672</td>\n",
              "      <td>1</td>\n",
              "      <td>0.0359</td>\n",
              "      <td>0.0803</td>\n",
              "      <td>0.000000</td>\n",
              "      <td>0.0833</td>\n",
              "      <td>0.725</td>\n",
              "      <td>123.976</td>\n",
              "      <td>189052</td>\n",
              "    </tr>\n",
              "  </tbody>\n",
              "</table>\n",
              "<p>5 rows × 22 columns</p>\n",
              "</div>\n",
              "      <button class=\"colab-df-convert\" onclick=\"convertToInteractive('df-3b00ed85-4f60-4297-8852-239a63bd99ce')\"\n",
              "              title=\"Convert this dataframe to an interactive table.\"\n",
              "              style=\"display:none;\">\n",
              "        \n",
              "  <svg xmlns=\"http://www.w3.org/2000/svg\" height=\"24px\"viewBox=\"0 0 24 24\"\n",
              "       width=\"24px\">\n",
              "    <path d=\"M0 0h24v24H0V0z\" fill=\"none\"/>\n",
              "    <path d=\"M18.56 5.44l.94 2.06.94-2.06 2.06-.94-2.06-.94-.94-2.06-.94 2.06-2.06.94zm-11 1L8.5 8.5l.94-2.06 2.06-.94-2.06-.94L8.5 2.5l-.94 2.06-2.06.94zm10 10l.94 2.06.94-2.06 2.06-.94-2.06-.94-.94-2.06-.94 2.06-2.06.94z\"/><path d=\"M17.41 7.96l-1.37-1.37c-.4-.4-.92-.59-1.43-.59-.52 0-1.04.2-1.43.59L10.3 9.45l-7.72 7.72c-.78.78-.78 2.05 0 2.83L4 21.41c.39.39.9.59 1.41.59.51 0 1.02-.2 1.41-.59l7.78-7.78 2.81-2.81c.8-.78.8-2.07 0-2.86zM5.41 20L4 18.59l7.72-7.72 1.47 1.35L5.41 20z\"/>\n",
              "  </svg>\n",
              "      </button>\n",
              "      \n",
              "  <style>\n",
              "    .colab-df-container {\n",
              "      display:flex;\n",
              "      flex-wrap:wrap;\n",
              "      gap: 12px;\n",
              "    }\n",
              "\n",
              "    .colab-df-convert {\n",
              "      background-color: #E8F0FE;\n",
              "      border: none;\n",
              "      border-radius: 50%;\n",
              "      cursor: pointer;\n",
              "      display: none;\n",
              "      fill: #1967D2;\n",
              "      height: 32px;\n",
              "      padding: 0 0 0 0;\n",
              "      width: 32px;\n",
              "    }\n",
              "\n",
              "    .colab-df-convert:hover {\n",
              "      background-color: #E2EBFA;\n",
              "      box-shadow: 0px 1px 2px rgba(60, 64, 67, 0.3), 0px 1px 3px 1px rgba(60, 64, 67, 0.15);\n",
              "      fill: #174EA6;\n",
              "    }\n",
              "\n",
              "    [theme=dark] .colab-df-convert {\n",
              "      background-color: #3B4455;\n",
              "      fill: #D2E3FC;\n",
              "    }\n",
              "\n",
              "    [theme=dark] .colab-df-convert:hover {\n",
              "      background-color: #434B5C;\n",
              "      box-shadow: 0px 1px 3px 1px rgba(0, 0, 0, 0.15);\n",
              "      filter: drop-shadow(0px 1px 2px rgba(0, 0, 0, 0.3));\n",
              "      fill: #FFFFFF;\n",
              "    }\n",
              "  </style>\n",
              "\n",
              "      <script>\n",
              "        const buttonEl =\n",
              "          document.querySelector('#df-3b00ed85-4f60-4297-8852-239a63bd99ce button.colab-df-convert');\n",
              "        buttonEl.style.display =\n",
              "          google.colab.kernel.accessAllowed ? 'block' : 'none';\n",
              "\n",
              "        async function convertToInteractive(key) {\n",
              "          const element = document.querySelector('#df-3b00ed85-4f60-4297-8852-239a63bd99ce');\n",
              "          const dataTable =\n",
              "            await google.colab.kernel.invokeFunction('convertToInteractive',\n",
              "                                                     [key], {});\n",
              "          if (!dataTable) return;\n",
              "\n",
              "          const docLinkHtml = 'Like what you see? Visit the ' +\n",
              "            '<a target=\"_blank\" href=https://colab.research.google.com/notebooks/data_table.ipynb>data table notebook</a>'\n",
              "            + ' to learn more about interactive tables.';\n",
              "          element.innerHTML = '';\n",
              "          dataTable['output_type'] = 'display_data';\n",
              "          await google.colab.output.renderOutput(dataTable, element);\n",
              "          const docLink = document.createElement('div');\n",
              "          docLink.innerHTML = docLinkHtml;\n",
              "          element.appendChild(docLink);\n",
              "        }\n",
              "      </script>\n",
              "    </div>\n",
              "  </div>\n",
              "  "
            ],
            "text/plain": [
              "                                                               track_name  \\\n",
              "track_id                                                                    \n",
              "6f807x0ima9a1j3VPbc7VN  I Don't Care (with Justin Bieber) - Loud Luxur...   \n",
              "0r7CVbZTWZgbTCYdfa2P31                    Memories - Dillon Francis Remix   \n",
              "1z1Hg7Vb0AhHDiEmnDE79l                    All the Time - Don Diablo Remix   \n",
              "75FpbthrwQmzHlBJLuGdC7                  Call You Mine - Keanu Silva Remix   \n",
              "1e8PAfcKUYoKkxPhrHqw4x            Someone You Loved - Future Humans Remix   \n",
              "\n",
              "                            track_artist  track_popularity  \\\n",
              "track_id                                                     \n",
              "6f807x0ima9a1j3VPbc7VN        Ed Sheeran                66   \n",
              "0r7CVbZTWZgbTCYdfa2P31          Maroon 5                67   \n",
              "1z1Hg7Vb0AhHDiEmnDE79l      Zara Larsson                70   \n",
              "75FpbthrwQmzHlBJLuGdC7  The Chainsmokers                60   \n",
              "1e8PAfcKUYoKkxPhrHqw4x     Lewis Capaldi                69   \n",
              "\n",
              "                                track_album_id  \\\n",
              "track_id                                         \n",
              "6f807x0ima9a1j3VPbc7VN  2oCs0DGTsRO98Gh5ZSl2Cx   \n",
              "0r7CVbZTWZgbTCYdfa2P31  63rPSO264uRjW1X5E6cWv6   \n",
              "1z1Hg7Vb0AhHDiEmnDE79l  1HoSmj2eLcsrR0vE9gThr4   \n",
              "75FpbthrwQmzHlBJLuGdC7  1nqYsOef1yKKuGOVchbsk6   \n",
              "1e8PAfcKUYoKkxPhrHqw4x  7m7vv9wlQ4i0LFuJiE2zsQ   \n",
              "\n",
              "                                                         track_album_name  \\\n",
              "track_id                                                                    \n",
              "6f807x0ima9a1j3VPbc7VN  I Don't Care (with Justin Bieber) [Loud Luxury...   \n",
              "0r7CVbZTWZgbTCYdfa2P31                    Memories (Dillon Francis Remix)   \n",
              "1z1Hg7Vb0AhHDiEmnDE79l                    All the Time (Don Diablo Remix)   \n",
              "75FpbthrwQmzHlBJLuGdC7                        Call You Mine - The Remixes   \n",
              "1e8PAfcKUYoKkxPhrHqw4x            Someone You Loved (Future Humans Remix)   \n",
              "\n",
              "                       track_album_release_date playlist_name  \\\n",
              "track_id                                                        \n",
              "6f807x0ima9a1j3VPbc7VN               2019-06-14     Pop Remix   \n",
              "0r7CVbZTWZgbTCYdfa2P31               2019-12-13     Pop Remix   \n",
              "1z1Hg7Vb0AhHDiEmnDE79l               2019-07-05     Pop Remix   \n",
              "75FpbthrwQmzHlBJLuGdC7               2019-07-19     Pop Remix   \n",
              "1e8PAfcKUYoKkxPhrHqw4x               2019-03-05     Pop Remix   \n",
              "\n",
              "                                   playlist_id playlist_genre  \\\n",
              "track_id                                                        \n",
              "6f807x0ima9a1j3VPbc7VN  37i9dQZF1DXcZDD7cfEKhW            pop   \n",
              "0r7CVbZTWZgbTCYdfa2P31  37i9dQZF1DXcZDD7cfEKhW            pop   \n",
              "1z1Hg7Vb0AhHDiEmnDE79l  37i9dQZF1DXcZDD7cfEKhW            pop   \n",
              "75FpbthrwQmzHlBJLuGdC7  37i9dQZF1DXcZDD7cfEKhW            pop   \n",
              "1e8PAfcKUYoKkxPhrHqw4x  37i9dQZF1DXcZDD7cfEKhW            pop   \n",
              "\n",
              "                       playlist_subgenre  ...  key  loudness  mode  \\\n",
              "track_id                                  ...                        \n",
              "6f807x0ima9a1j3VPbc7VN         dance pop  ...    6    -2.634     1   \n",
              "0r7CVbZTWZgbTCYdfa2P31         dance pop  ...   11    -4.969     1   \n",
              "1z1Hg7Vb0AhHDiEmnDE79l         dance pop  ...    1    -3.432     0   \n",
              "75FpbthrwQmzHlBJLuGdC7         dance pop  ...    7    -3.778     1   \n",
              "1e8PAfcKUYoKkxPhrHqw4x         dance pop  ...    1    -4.672     1   \n",
              "\n",
              "                        speechiness  acousticness  instrumentalness  liveness  \\\n",
              "track_id                                                                        \n",
              "6f807x0ima9a1j3VPbc7VN       0.0583        0.1020          0.000000    0.0653   \n",
              "0r7CVbZTWZgbTCYdfa2P31       0.0373        0.0724          0.004210    0.3570   \n",
              "1z1Hg7Vb0AhHDiEmnDE79l       0.0742        0.0794          0.000023    0.1100   \n",
              "75FpbthrwQmzHlBJLuGdC7       0.1020        0.0287          0.000009    0.2040   \n",
              "1e8PAfcKUYoKkxPhrHqw4x       0.0359        0.0803          0.000000    0.0833   \n",
              "\n",
              "                        valence    tempo  duration_ms  \n",
              "track_id                                               \n",
              "6f807x0ima9a1j3VPbc7VN    0.518  122.036       194754  \n",
              "0r7CVbZTWZgbTCYdfa2P31    0.693   99.972       162600  \n",
              "1z1Hg7Vb0AhHDiEmnDE79l    0.613  124.008       176616  \n",
              "75FpbthrwQmzHlBJLuGdC7    0.277  121.956       169093  \n",
              "1e8PAfcKUYoKkxPhrHqw4x    0.725  123.976       189052  \n",
              "\n",
              "[5 rows x 22 columns]"
            ]
          },
          "execution_count": 20,
          "metadata": {},
          "output_type": "execute_result"
        }
      ],
      "source": [
        "sd.head()"
      ]
    },
    {
      "cell_type": "code",
      "execution_count": 21,
      "metadata": {
        "colab": {
          "base_uri": "https://localhost:8080/"
        },
        "id": "7TVqAbsQQ9VU",
        "outputId": "52eaeeef-d065-4441-a404-f9451a362c56"
      },
      "outputs": [
        {
          "data": {
            "text/plain": [
              "track_id\n",
              "6f807x0ima9a1j3VPbc7VN   2019-06-14\n",
              "0r7CVbZTWZgbTCYdfa2P31   2019-12-13\n",
              "1z1Hg7Vb0AhHDiEmnDE79l   2019-07-05\n",
              "75FpbthrwQmzHlBJLuGdC7   2019-07-19\n",
              "1e8PAfcKUYoKkxPhrHqw4x   2019-03-05\n",
              "                            ...    \n",
              "7nnpU2iHbi2k23GNPJMKUM   2020-01-01\n",
              "4Y36xj2AyVRguhrGB1Linl   2020-01-10\n",
              "1WGimYNx7U5q68rL0nnEAF   2019-10-18\n",
              "3a1Zmq0P1E6W80x8EOcVNP   2019-02-15\n",
              "2Pph0CUJ8uksCBzV6iyuQF   2019-02-08\n",
              "Name: track_album_release_date, Length: 4348, dtype: datetime64[ns]"
            ]
          },
          "execution_count": 21,
          "metadata": {},
          "output_type": "execute_result"
        }
      ],
      "source": [
        "pd.to_datetime(sd['track_album_release_date'])"
      ]
    },
    {
      "cell_type": "code",
      "execution_count": 22,
      "metadata": {
        "id": "S7OeVS6sRkD3"
      },
      "outputs": [],
      "source": [
        "sd['track_album_release_date'] = pd.to_datetime(sd['track_album_release_date'])"
      ]
    },
    {
      "cell_type": "code",
      "execution_count": 23,
      "metadata": {
        "id": "nV1BpqsySdVp"
      },
      "outputs": [],
      "source": [
        "month_of_release = sd['track_album_release_date'].dt.month"
      ]
    },
    {
      "cell_type": "code",
      "execution_count": 24,
      "metadata": {
        "id": "YXaYq13BSw6d"
      },
      "outputs": [],
      "source": [
        "day_of_month = sd['track_album_release_date'].dt.day"
      ]
    },
    {
      "cell_type": "code",
      "execution_count": 25,
      "metadata": {
        "id": "eYGg3D05S6la"
      },
      "outputs": [],
      "source": [
        "year_of_release = sd['track_album_release_date'].dt.year"
      ]
    },
    {
      "cell_type": "code",
      "execution_count": 26,
      "metadata": {
        "colab": {
          "base_uri": "https://localhost:8080/",
          "height": 235
        },
        "id": "6JG_fEsqTZcb",
        "outputId": "81f5f805-a12d-445b-b380-2c98674ec62b"
      },
      "outputs": [
        {
          "data": {
            "text/plain": [
              "Text(0.5, 1.0, 'Year of release')"
            ]
          },
          "execution_count": 26,
          "metadata": {},
          "output_type": "execute_result"
        },
        {
          "data": {
            "image/png": "[encoded data removed]",
            "text/plain": [
              "<Figure size 1800x288 with 3 Axes>"
            ]
          },
          "metadata": {},
          "output_type": "display_data"
        }
      ],
      "source": [
        "fig, axes = plt.subplots(nrows=1, ncols=3, figsize=(25,4), sharey=False)\n",
        "\n",
        "sns.countplot(x=day_of_month, ax=axes[0])\n",
        "sns.countplot(x=month_of_release, ax=axes[1])\n",
        "sns.countplot(x=year_of_release, ax=axes[2])\n",
        "\n",
        "axes[0].set_title('Day of month released')\n",
        "axes[1].set_title('Month of release')\n",
        "axes[2].set_title('Year of release')"
      ]
    },
    {
      "cell_type": "code",
      "execution_count": 27,
      "metadata": {
        "id": "kKxYSUCRbTy4"
      },
      "outputs": [],
      "source": [
        "df = pd.DataFrame(sd.drop(columns=['track_album_id','playlist_id']))"
      ]
    },
    {
      "cell_type": "code",
      "execution_count": 28,
      "metadata": {
        "colab": {
          "base_uri": "https://localhost:8080/",
          "height": 312
        },
        "id": "LO61pztveRvb",
        "outputId": "2d5d5cc5-681f-42eb-bf22-76f5052796f7"
      },
      "outputs": [
        {
          "data": {
            "text/html": [
              "\n",
              "  <div id=\"df-99ba5a9c-dea0-48e3-a0d9-5f03ca53c3db\">\n",
              "    <div class=\"colab-df-container\">\n",
              "      <div>\n",
              "<style scoped>\n",
              "    .dataframe tbody tr th:only-of-type {\n",
              "        vertical-align: middle;\n",
              "    }\n",
              "\n",
              "    .dataframe tbody tr th {\n",
              "        vertical-align: top;\n",
              "    }\n",
              "\n",
              "    .dataframe thead th {\n",
              "        text-align: right;\n",
              "    }\n",
              "</style>\n",
              "<table border=\"1\" class=\"dataframe\">\n",
              "  <thead>\n",
              "    <tr style=\"text-align: right;\">\n",
              "      <th></th>\n",
              "      <th>track_name</th>\n",
              "      <th>track_artist</th>\n",
              "      <th>track_popularity</th>\n",
              "      <th>track_album_name</th>\n",
              "      <th>track_album_release_date</th>\n",
              "      <th>playlist_name</th>\n",
              "      <th>playlist_genre</th>\n",
              "      <th>playlist_subgenre</th>\n",
              "      <th>danceability</th>\n",
              "      <th>energy</th>\n",
              "      <th>key</th>\n",
              "      <th>loudness</th>\n",
              "      <th>mode</th>\n",
              "      <th>speechiness</th>\n",
              "      <th>acousticness</th>\n",
              "      <th>instrumentalness</th>\n",
              "      <th>liveness</th>\n",
              "      <th>valence</th>\n",
              "      <th>tempo</th>\n",
              "      <th>duration_ms</th>\n",
              "    </tr>\n",
              "    <tr>\n",
              "      <th>track_id</th>\n",
              "      <th></th>\n",
              "      <th></th>\n",
              "      <th></th>\n",
              "      <th></th>\n",
              "      <th></th>\n",
              "      <th></th>\n",
              "      <th></th>\n",
              "      <th></th>\n",
              "      <th></th>\n",
              "      <th></th>\n",
              "      <th></th>\n",
              "      <th></th>\n",
              "      <th></th>\n",
              "      <th></th>\n",
              "      <th></th>\n",
              "      <th></th>\n",
              "      <th></th>\n",
              "      <th></th>\n",
              "      <th></th>\n",
              "      <th></th>\n",
              "    </tr>\n",
              "  </thead>\n",
              "  <tbody>\n",
              "    <tr>\n",
              "      <th>6f807x0ima9a1j3VPbc7VN</th>\n",
              "      <td>I Don't Care (with Justin Bieber) - Loud Luxur...</td>\n",
              "      <td>Ed Sheeran</td>\n",
              "      <td>66</td>\n",
              "      <td>I Don't Care (with Justin Bieber) [Loud Luxury...</td>\n",
              "      <td>2019-06-14</td>\n",
              "      <td>Pop Remix</td>\n",
              "      <td>pop</td>\n",
              "      <td>dance pop</td>\n",
              "      <td>0.748</td>\n",
              "      <td>0.916</td>\n",
              "      <td>6</td>\n",
              "      <td>-2.634</td>\n",
              "      <td>1</td>\n",
              "      <td>0.0583</td>\n",
              "      <td>0.1020</td>\n",
              "      <td>0.00000</td>\n",
              "      <td>0.0653</td>\n",
              "      <td>0.518</td>\n",
              "      <td>122.036</td>\n",
              "      <td>194754</td>\n",
              "    </tr>\n",
              "    <tr>\n",
              "      <th>0r7CVbZTWZgbTCYdfa2P31</th>\n",
              "      <td>Memories - Dillon Francis Remix</td>\n",
              "      <td>Maroon 5</td>\n",
              "      <td>67</td>\n",
              "      <td>Memories (Dillon Francis Remix)</td>\n",
              "      <td>2019-12-13</td>\n",
              "      <td>Pop Remix</td>\n",
              "      <td>pop</td>\n",
              "      <td>dance pop</td>\n",
              "      <td>0.726</td>\n",
              "      <td>0.815</td>\n",
              "      <td>11</td>\n",
              "      <td>-4.969</td>\n",
              "      <td>1</td>\n",
              "      <td>0.0373</td>\n",
              "      <td>0.0724</td>\n",
              "      <td>0.00421</td>\n",
              "      <td>0.3570</td>\n",
              "      <td>0.693</td>\n",
              "      <td>99.972</td>\n",
              "      <td>162600</td>\n",
              "    </tr>\n",
              "  </tbody>\n",
              "</table>\n",
              "</div>\n",
              "      <button class=\"colab-df-convert\" onclick=\"convertToInteractive('df-99ba5a9c-dea0-48e3-a0d9-5f03ca53c3db')\"\n",
              "              title=\"Convert this dataframe to an interactive table.\"\n",
              "              style=\"display:none;\">\n",
              "        \n",
              "  <svg xmlns=\"http://www.w3.org/2000/svg\" height=\"24px\"viewBox=\"0 0 24 24\"\n",
              "       width=\"24px\">\n",
              "    <path d=\"M0 0h24v24H0V0z\" fill=\"none\"/>\n",
              "    <path d=\"M18.56 5.44l.94 2.06.94-2.06 2.06-.94-2.06-.94-.94-2.06-.94 2.06-2.06.94zm-11 1L8.5 8.5l.94-2.06 2.06-.94-2.06-.94L8.5 2.5l-.94 2.06-2.06.94zm10 10l.94 2.06.94-2.06 2.06-.94-2.06-.94-.94-2.06-.94 2.06-2.06.94z\"/><path d=\"M17.41 7.96l-1.37-1.37c-.4-.4-.92-.59-1.43-.59-.52 0-1.04.2-1.43.59L10.3 9.45l-7.72 7.72c-.78.78-.78 2.05 0 2.83L4 21.41c.39.39.9.59 1.41.59.51 0 1.02-.2 1.41-.59l7.78-7.78 2.81-2.81c.8-.78.8-2.07 0-2.86zM5.41 20L4 18.59l7.72-7.72 1.47 1.35L5.41 20z\"/>\n",
              "  </svg>\n",
              "      </button>\n",
              "      \n",
              "  <style>\n",
              "    .colab-df-container {\n",
              "      display:flex;\n",
              "      flex-wrap:wrap;\n",
              "      gap: 12px;\n",
              "    }\n",
              "\n",
              "    .colab-df-convert {\n",
              "      background-color: #E8F0FE;\n",
              "      border: none;\n",
              "      border-radius: 50%;\n",
              "      cursor: pointer;\n",
              "      display: none;\n",
              "      fill: #1967D2;\n",
              "      height: 32px;\n",
              "      padding: 0 0 0 0;\n",
              "      width: 32px;\n",
              "    }\n",
              "\n",
              "    .colab-df-convert:hover {\n",
              "      background-color: #E2EBFA;\n",
              "      box-shadow: 0px 1px 2px rgba(60, 64, 67, 0.3), 0px 1px 3px 1px rgba(60, 64, 67, 0.15);\n",
              "      fill: #174EA6;\n",
              "    }\n",
              "\n",
              "    [theme=dark] .colab-df-convert {\n",
              "      background-color: #3B4455;\n",
              "      fill: #D2E3FC;\n",
              "    }\n",
              "\n",
              "    [theme=dark] .colab-df-convert:hover {\n",
              "      background-color: #434B5C;\n",
              "      box-shadow: 0px 1px 3px 1px rgba(0, 0, 0, 0.15);\n",
              "      filter: drop-shadow(0px 1px 2px rgba(0, 0, 0, 0.3));\n",
              "      fill: #FFFFFF;\n",
              "    }\n",
              "  </style>\n",
              "\n",
              "      <script>\n",
              "        const buttonEl =\n",
              "          document.querySelector('#df-99ba5a9c-dea0-48e3-a0d9-5f03ca53c3db button.colab-df-convert');\n",
              "        buttonEl.style.display =\n",
              "          google.colab.kernel.accessAllowed ? 'block' : 'none';\n",
              "\n",
              "        async function convertToInteractive(key) {\n",
              "          const element = document.querySelector('#df-99ba5a9c-dea0-48e3-a0d9-5f03ca53c3db');\n",
              "          const dataTable =\n",
              "            await google.colab.kernel.invokeFunction('convertToInteractive',\n",
              "                                                     [key], {});\n",
              "          if (!dataTable) return;\n",
              "\n",
              "          const docLinkHtml = 'Like what you see? Visit the ' +\n",
              "            '<a target=\"_blank\" href=https://colab.research.google.com/notebooks/data_table.ipynb>data table notebook</a>'\n",
              "            + ' to learn more about interactive tables.';\n",
              "          element.innerHTML = '';\n",
              "          dataTable['output_type'] = 'display_data';\n",
              "          await google.colab.output.renderOutput(dataTable, element);\n",
              "          const docLink = document.createElement('div');\n",
              "          docLink.innerHTML = docLinkHtml;\n",
              "          element.appendChild(docLink);\n",
              "        }\n",
              "      </script>\n",
              "    </div>\n",
              "  </div>\n",
              "  "
            ],
            "text/plain": [
              "                                                               track_name  \\\n",
              "track_id                                                                    \n",
              "6f807x0ima9a1j3VPbc7VN  I Don't Care (with Justin Bieber) - Loud Luxur...   \n",
              "0r7CVbZTWZgbTCYdfa2P31                    Memories - Dillon Francis Remix   \n",
              "\n",
              "                       track_artist  track_popularity  \\\n",
              "track_id                                                \n",
              "6f807x0ima9a1j3VPbc7VN   Ed Sheeran                66   \n",
              "0r7CVbZTWZgbTCYdfa2P31     Maroon 5                67   \n",
              "\n",
              "                                                         track_album_name  \\\n",
              "track_id                                                                    \n",
              "6f807x0ima9a1j3VPbc7VN  I Don't Care (with Justin Bieber) [Loud Luxury...   \n",
              "0r7CVbZTWZgbTCYdfa2P31                    Memories (Dillon Francis Remix)   \n",
              "\n",
              "                       track_album_release_date playlist_name playlist_genre  \\\n",
              "track_id                                                                       \n",
              "6f807x0ima9a1j3VPbc7VN               2019-06-14     Pop Remix            pop   \n",
              "0r7CVbZTWZgbTCYdfa2P31               2019-12-13     Pop Remix            pop   \n",
              "\n",
              "                       playlist_subgenre  danceability  energy  key  loudness  \\\n",
              "track_id                                                                        \n",
              "6f807x0ima9a1j3VPbc7VN         dance pop         0.748   0.916    6    -2.634   \n",
              "0r7CVbZTWZgbTCYdfa2P31         dance pop         0.726   0.815   11    -4.969   \n",
              "\n",
              "                        mode  speechiness  acousticness  instrumentalness  \\\n",
              "track_id                                                                    \n",
              "6f807x0ima9a1j3VPbc7VN     1       0.0583        0.1020           0.00000   \n",
              "0r7CVbZTWZgbTCYdfa2P31     1       0.0373        0.0724           0.00421   \n",
              "\n",
              "                        liveness  valence    tempo  duration_ms  \n",
              "track_id                                                         \n",
              "6f807x0ima9a1j3VPbc7VN    0.0653    0.518  122.036       194754  \n",
              "0r7CVbZTWZgbTCYdfa2P31    0.3570    0.693   99.972       162600  "
            ]
          },
          "execution_count": 28,
          "metadata": {},
          "output_type": "execute_result"
        }
      ],
      "source": [
        "df.head(2)"
      ]
    },
    {
      "cell_type": "code",
      "execution_count": 29,
      "metadata": {
        "id": "lg7HGtKBemc4"
      },
      "outputs": [],
      "source": [
        "del df['track_popularity']"
      ]
    },
    {
      "cell_type": "code",
      "execution_count": 30,
      "metadata": {
        "id": "9bzpzOk4fQ0h"
      },
      "outputs": [],
      "source": [
        "df.drop(df.columns[[0]], axis=1, inplace=True)"
      ]
    },
    {
      "cell_type": "code",
      "execution_count": 94,
      "metadata": {
        "id": "Jw88BgJhj0Z_"
      },
      "outputs": [],
      "source": [
        "#one hot encoding\n",
        "artist_hot = pd.get_dummies(df['playlist_subgenre'])"
      ]
    },
    {
      "cell_type": "code",
      "execution_count": 35,
      "metadata": {
        "colab": {
          "base_uri": "https://localhost:8080/"
        },
        "id": "vKaPTapmnn6j",
        "outputId": "881595e3-13b6-4ef5-c569-e9a1d533143d"
      },
      "outputs": [
        {
          "data": {
            "text/plain": [
              "(4348, 22)"
            ]
          },
          "execution_count": 35,
          "metadata": {},
          "output_type": "execute_result"
        }
      ],
      "source": [
        "sd.shape"
      ]
    },
    {
      "cell_type": "code",
      "execution_count": 36,
      "metadata": {
        "colab": {
          "base_uri": "https://localhost:8080/"
        },
        "id": "waihRN5sn0jx",
        "outputId": "99819e29-f19c-461a-e2a2-667b73ad2366"
      },
      "outputs": [
        {
          "data": {
            "text/plain": [
              "(4348, 4)"
            ]
          },
          "execution_count": 36,
          "metadata": {},
          "output_type": "execute_result"
        }
      ],
      "source": [
        "artist_hot.shape"
      ]
    },
    {
      "cell_type": "code",
      "execution_count": 37,
      "metadata": {
        "id": "UiI55PQMoCIf"
      },
      "outputs": [],
      "source": [
        "features = pd.DataFrame({\n",
        "    'acousticness' : sd['acousticness'],\n",
        "    'danceability' : sd['danceability'],\n",
        "    'energy' : sd['energy'],\n",
        "    'instumentalness' : sd['instrumentalness'],\n",
        "    'liveness' : sd['liveness'],\n",
        "    'loudness' : sd['loudness'],\n",
        "    'speechiness' : sd['speechiness'],\n",
        "    'tempo' : sd['tempo'],\n",
        "    'key' : sd['key'],\n",
        "    'valence' : sd['valence'],\n",
        "    'duration_ms' : sd['duration_ms'],\n",
        "    'mode' : sd['mode'],\n",
        "    'month_of_release' : month_of_release,\n",
        "    'day_of_month' : day_of_month,\n",
        "    'year_of_release': year_of_release\n",
        "})"
      ]
    },
    {
      "cell_type": "code",
      "execution_count": 38,
      "metadata": {
        "id": "dCVCnQEDqwVU"
      },
      "outputs": [],
      "source": [
        "final_df = pd.concat([features, artist_hot], axis=1)"
      ]
    },
    {
      "cell_type": "code",
      "execution_count": 39,
      "metadata": {
        "id": "GMRbfaHHrFdf"
      },
      "outputs": [],
      "source": [
        "final_df.columns = final_df.columns.str.replace(' ', '_')"
      ]
    },
    {
      "cell_type": "code",
      "execution_count": 40,
      "metadata": {
        "colab": {
          "base_uri": "https://localhost:8080/"
        },
        "id": "bFabhP_qrQ-3",
        "outputId": "037f82ec-5a42-4750-ef16-ecc9424a0f5f"
      },
      "outputs": [
        {
          "name": "stdout",
          "output_type": "stream",
          "text": [
            "<class 'pandas.core.frame.DataFrame'>\n",
            "Index: 4348 entries, 6f807x0ima9a1j3VPbc7VN to 2Pph0CUJ8uksCBzV6iyuQF\n",
            "Data columns (total 19 columns):\n",
            " #   Column            Non-Null Count  Dtype  \n",
            "---  ------            --------------  -----  \n",
            " 0   acousticness      4348 non-null   float64\n",
            " 1   danceability      4348 non-null   float64\n",
            " 2   energy            4348 non-null   float64\n",
            " 3   instumentalness   4348 non-null   float64\n",
            " 4   liveness          4348 non-null   float64\n",
            " 5   loudness          4348 non-null   float64\n",
            " 6   speechiness       4348 non-null   float64\n",
            " 7   tempo             4348 non-null   float64\n",
            " 8   key               4348 non-null   int64  \n",
            " 9   valence           4348 non-null   float64\n",
            " 10  duration_ms       4348 non-null   int64  \n",
            " 11  mode              4348 non-null   int64  \n",
            " 12  month_of_release  4348 non-null   int64  \n",
            " 13  day_of_month      4348 non-null   int64  \n",
            " 14  year_of_release   4348 non-null   int64  \n",
            " 15  dance_pop         4348 non-null   uint8  \n",
            " 16  electropop        4348 non-null   uint8  \n",
            " 17  indie_poptimism   4348 non-null   uint8  \n",
            " 18  post-teen_pop     4348 non-null   uint8  \n",
            "dtypes: float64(9), int64(6), uint8(4)\n",
            "memory usage: 689.5+ KB\n"
          ]
        }
      ],
      "source": [
        "final_df.info()"
      ]
    },
    {
      "cell_type": "code",
      "execution_count": 41,
      "metadata": {
        "id": "EdwRFdLMrXdf"
      },
      "outputs": [],
      "source": [
        "X_train, X_test, y_train, y_test = train_test_split(final_df, sd['track_popularity'], test_size=0.1, random_state=42)"
      ]
    },
    {
      "cell_type": "code",
      "execution_count": 42,
      "metadata": {
        "colab": {
          "base_uri": "https://localhost:8080/"
        },
        "id": "vdZDgABksDXE",
        "outputId": "9b704096-7e27-4777-8a0c-147d6d7d7165"
      },
      "outputs": [
        {
          "name": "stdout",
          "output_type": "stream",
          "text": [
            "Length of the X_train: (3913, 19)\n",
            "Length of the y_train: (3913,)\n",
            "Length of the X_test: (435, 19)\n",
            "Length of the y_test: (435,)\n"
          ]
        }
      ],
      "source": [
        "print(\"Length of the X_train:\", X_train.shape)\n",
        "print(\"Length of the y_train:\", y_train.shape)\n",
        "print(\"Length of the X_test:\", X_test.shape)\n",
        "print(\"Length of the y_test:\", y_test.shape)"
      ]
    },
    {
      "cell_type": "code",
      "execution_count": 43,
      "metadata": {
        "id": "SoO7V_nFsN_U"
      },
      "outputs": [],
      "source": [
        "names, mses, rmses, r2s = [], [], [], []"
      ]
    },
    {
      "cell_type": "code",
      "execution_count": 44,
      "metadata": {
        "id": "Sk1kjOnLsfqT"
      },
      "outputs": [],
      "source": [
        "def display_metrics(y_test, y_preds, model_type):\n",
        "    mse = mean_squared_error(y_test, y_preds)\n",
        "    rmse = np.sqrt(mse)\n",
        "    r2 = r2_score(y_test, y_preds)\n",
        "    result = f'''\n",
        "    {model_type} MSE  : {mse}\n",
        "    {model_type} RMSE : {rmse} \n",
        "    {model_type} R^2  : {r2}\n",
        "    '''\n",
        "    \n",
        "    names.append(model_type)\n",
        "    mses.append(mse)\n",
        "    rmses.append(rmse)\n",
        "    r2s.append(r2)\n",
        "    \n",
        "    print(result)"
      ]
    },
    {
      "cell_type": "code",
      "execution_count": 60,
      "metadata": {
        "id": "jR92OLcOsrBf"
      },
      "outputs": [],
      "source": [
        "#Here we are going to apply different regression models\n",
        "from sklearn.linear_model import LinearRegression\n",
        "\n",
        "lr = LinearRegression()\n",
        "lr.fit(X_train, y_train)\n",
        "lr_preds = lr.predict(X_test)"
      ]
    },
    {
      "cell_type": "code",
      "execution_count": 46,
      "metadata": {
        "id": "4-MuLCdgwsH0"
      },
      "outputs": [],
      "source": [
        "from sklearn.metrics import r2_score, mean_squared_error, mean_gamma_deviance"
      ]
    },
    {
      "cell_type": "code",
      "execution_count": 47,
      "metadata": {
        "colab": {
          "base_uri": "https://localhost:8080/"
        },
        "id": "1SWfQNiSwzrV",
        "outputId": "0b98fd4b-49e1-4995-b2f6-d027b92e95bf"
      },
      "outputs": [
        {
          "name": "stdout",
          "output_type": "stream",
          "text": [
            "\n",
            "    Linear Regression MSE  : 532.2229797614008\n",
            "    Linear Regression RMSE : 23.069958382307515 \n",
            "    Linear Regression R^2  : 0.10910286461416108\n",
            "    \n"
          ]
        }
      ],
      "source": [
        "display_metrics(y_test, lr_preds, \"Linear Regression\")"
      ]
    },
    {
      "cell_type": "code",
      "execution_count": 48,
      "metadata": {
        "id": "RGhiV1PbxUlG"
      },
      "outputs": [],
      "source": [
        "from sklearn.linear_model import ElasticNet"
      ]
    },
    {
      "cell_type": "code",
      "execution_count": 49,
      "metadata": {
        "id": "WpV7lyrWx5VS"
      },
      "outputs": [],
      "source": [
        "elr = ElasticNet(alpha=0.1, random_state=42)\n",
        "elr.fit(X_train, y_train)\n",
        "elr_preds = elr.predict(X_test)"
      ]
    },
    {
      "cell_type": "code",
      "execution_count": 50,
      "metadata": {
        "colab": {
          "base_uri": "https://localhost:8080/"
        },
        "id": "rNNp1O6lyJSv",
        "outputId": "19c56a45-bcd5-4423-8c62-1d58257025ce"
      },
      "outputs": [
        {
          "name": "stdout",
          "output_type": "stream",
          "text": [
            "\n",
            "    Elastic Net Regression MSE  : 542.3256269077036\n",
            "    Elastic Net Regression RMSE : 23.287885840232548 \n",
            "    Elastic Net Regression R^2  : 0.09219187101803705\n",
            "    \n"
          ]
        }
      ],
      "source": [
        "display_metrics(y_test, elr_preds, \"Elastic Net Regression\")"
      ]
    },
    {
      "cell_type": "code",
      "execution_count": 51,
      "metadata": {
        "id": "jPrBgu7AydNM"
      },
      "outputs": [],
      "source": [
        "svr = SVR()\n",
        "svr.fit(X_train, y_train)\n",
        "svr_preds = svr.predict(X_test)"
      ]
    },
    {
      "cell_type": "code",
      "execution_count": 52,
      "metadata": {
        "colab": {
          "base_uri": "https://localhost:8080/"
        },
        "id": "ZEsh-TAOyg07",
        "outputId": "5cf3ca3d-be25-4386-962b-5a0f4c7e7334"
      },
      "outputs": [
        {
          "name": "stdout",
          "output_type": "stream",
          "text": [
            "\n",
            "    Support Vector Regressor MSE  : 604.8060419607202\n",
            "    Support Vector Regressor RMSE : 24.592804678619316 \n",
            "    Support Vector Regressor R^2  : -0.012395162810162397\n",
            "    \n"
          ]
        }
      ],
      "source": [
        "display_metrics(y_test, svr_preds, \"Support Vector Regressor\")"
      ]
    },
    {
      "cell_type": "code",
      "execution_count": 53,
      "metadata": {
        "colab": {
          "base_uri": "https://localhost:8080/"
        },
        "id": "qPdHxWhZR96V",
        "outputId": "dabecfa4-4e77-4917-d2c6-e48f1663c9f8"
      },
      "outputs": [
        {
          "name": "stdout",
          "output_type": "stream",
          "text": [
            "\n",
            "    Support Vector Regressor MSE  : 604.8060419607202\n",
            "    Support Vector Regressor RMSE : 24.592804678619316 \n",
            "    Support Vector Regressor R^2  : -0.012395162810162397\n",
            "    \n"
          ]
        }
      ],
      "source": [
        "display_metrics(y_test, svr_preds, \"Support Vector Regressor\")"
      ]
    },
    {
      "cell_type": "code",
      "execution_count": 54,
      "metadata": {
        "id": "0mKsc_k__CW0"
      },
      "outputs": [],
      "source": [
        "dtr = DecisionTreeRegressor(random_state=42)\n",
        "dtr.fit(X_train, y_train)\n",
        "dtr_preds = dtr.predict(X_test)"
      ]
    },
    {
      "cell_type": "code",
      "execution_count": 55,
      "metadata": {
        "colab": {
          "base_uri": "https://localhost:8080/"
        },
        "id": "5HtpuzIt_IHU",
        "outputId": "ac083e7e-3738-4e94-fc80-44d0e350b140"
      },
      "outputs": [
        {
          "name": "stdout",
          "output_type": "stream",
          "text": [
            "\n",
            "    Decision Tree Regressor MSE  : 1009.5942528735632\n",
            "    Decision Tree Regressor RMSE : 31.774112936061066 \n",
            "    Decision Tree Regressor R^2  : -0.68997706222736\n",
            "    \n"
          ]
        }
      ],
      "source": [
        "display_metrics(y_test, dtr_preds, \"Decision Tree Regressor\")"
      ]
    },
    {
      "cell_type": "code",
      "execution_count": 56,
      "metadata": {
        "id": "igf4ayzP_NPR"
      },
      "outputs": [],
      "source": [
        "rfr = RandomForestRegressor(random_state=42)\n",
        "rfr.fit(X_train, y_train)\n",
        "rfr_preds = rfr.predict(X_test)"
      ]
    },
    {
      "cell_type": "code",
      "execution_count": 57,
      "metadata": {
        "colab": {
          "base_uri": "https://localhost:8080/"
        },
        "id": "0O3cLG3z_PXJ",
        "outputId": "4fd5c420-89cf-4672-a91d-5be78edd744a"
      },
      "outputs": [
        {
          "name": "stdout",
          "output_type": "stream",
          "text": [
            "\n",
            "    Random Forest Regressor MSE  : 510.5685520287565\n",
            "    Random Forest Regressor RMSE : 22.595764028435873 \n",
            "    Random Forest Regressor R^2  : 0.14535058102069642\n",
            "    \n"
          ]
        }
      ],
      "source": [
        "display_metrics(y_test, rfr_preds, \"Random Forest Regressor\")"
      ]
    },
    {
      "cell_type": "code",
      "execution_count": 89,
      "metadata": {
        "id": "9d0wHG9XN6ni"
      },
      "outputs": [],
      "source": [
        "#Here we are going to apply different clustring models\n",
        "import statsmodels.api as sm\n",
        "from sklearn.cluster import KMeans\n",
        "from sklearn.datasets import make_classification\n",
        "from sklearn.cluster import Birch"
      ]
    },
    {
      "cell_type": "code",
      "execution_count": 88,
      "metadata": {
        "id": "4fvnzXcPOM8H"
      },
      "outputs": [],
      "source": [
        "km= KMeans(random_state=90)\n",
        "km.fit(X_train, y_train)\n",
        "km_pred=km.predict(X_test)\n"
      ]
    },
    {
      "cell_type": "code",
      "execution_count": 90,
      "metadata": {
        "colab": {
          "base_uri": "https://localhost:8080/"
        },
        "id": "PkBPDZjKOQmI",
        "outputId": "c10f5a77-f6cd-46f1-ef20-c47e1153673c"
      },
      "outputs": [
        {
          "name": "stdout",
          "output_type": "stream",
          "text": [
            "\n",
            "    K Means Clustring MSE  : 510.5685520287565\n",
            "    K Means Clustring RMSE : 22.595764028435873 \n",
            "    K Means Clustring R^2  : 0.14535058102069642\n",
            "    \n"
          ]
        }
      ],
      "source": [
        "display_metrics(y_test, rfr_preds, \"K Means Clustring\")"
      ]
    },
    {
      "cell_type": "code",
      "execution_count": 91,
      "metadata": {
        "id": "bOsiFrhrOaAd"
      },
      "outputs": [],
      "source": [
        "br=Birch()\n",
        "br.fit(X_train, y_train)\n",
        "br_pred=br.predict(X_test)\n"
      ]
    },
    {
      "cell_type": "code",
      "execution_count": 92,
      "metadata": {
        "colab": {
          "base_uri": "https://localhost:8080/"
        },
        "id": "SGVzWbIlOdUj",
        "outputId": "54070519-a3cd-4d40-a7a4-02239e934d94"
      },
      "outputs": [
        {
          "name": "stdout",
          "output_type": "stream",
          "text": [
            "\n",
            "    Birch Clustring MSE  : 510.5685520287565\n",
            "    Birch Clustring RMSE : 22.595764028435873 \n",
            "    Birch Clustring R^2  : 0.14535058102069642\n",
            "    \n"
          ]
        }
      ],
      "source": [
        "display_metrics(y_test, rfr_preds, \"Birch Clustring\")"
      ]
    },
    {
      "cell_type": "code",
      "execution_count": null,
      "metadata": {
        "colab": {
          "base_uri": "https://localhost:8080/",
          "height": 542
        },
        "id": "F12iImYBOf8n",
        "outputId": "8aed6d97-0594-4454-b96b-b0fb53b1aa8d"
      },
      "outputs": [
        {
          "data": {
            "text/html": [
              "<html>\n",
              "<head><meta charset=\"utf-8\" /></head>\n",
              "<body>\n",
              "    <div>            <script src=\"https://cdnjs.cloudflare.com/ajax/libs/mathjax/2.7.5/MathJax.js?config=TeX-AMS-MML_SVG\"></script><script type=\"text/javascript\">if (window.MathJax) {MathJax.Hub.Config({SVG: {font: \"STIX-Web\"}});}</script>                <script type=\"text/javascript\">window.PlotlyConfig = {MathJaxConfig: 'local'};</script>\n",
              "        <script src=\"https://cdn.plot.ly/plotly-2.8.3.min.js\"></script>                <div id=\"fb2dab26-fa6e-4038-83bc-f672f0e98a63\" class=\"plotly-graph-div\" style=\"height:525px; width:100%;\"></div>            <script type=\"text/javascript\">                                    window.PLOTLYENV=window.PLOTLYENV || {};                                    if (document.getElementById(\"fb2dab26-fa6e-4038-83bc-f672f0e98a63\")) {                    Plotly.newPlot(                        \"fb2dab26-fa6e-4038-83bc-f672f0e98a63\",                        [{\"x\":[\"Linear Regression\",\"Elastic Net Regression\",\"Support Vector Regressor\",\"Support Vector Regressor\",\"Decision Tree Regressor\",\"Random Forest Regressor\",\"K Means Clustring\",\"Birch Clustring\",\"K Means Clustring\",\"Birch Clustring\"],\"y\":[532.2229797614008,542.3256269077036,604.8060419607202,604.8060419607202,1009.5942528735632,510.5685520287565,510.5685520287565,510.5685520287565,510.5685520287565,510.5685520287565],\"type\":\"bar\",\"xaxis\":\"x\",\"yaxis\":\"y\"},{\"x\":[\"Linear Regression\",\"Elastic Net Regression\",\"Support Vector Regressor\",\"Support Vector Regressor\",\"Decision Tree Regressor\",\"Random Forest Regressor\",\"K Means Clustring\",\"Birch Clustring\",\"K Means Clustring\",\"Birch Clustring\"],\"y\":[23.069958382307515,23.287885840232548,24.592804678619316,24.592804678619316,31.774112936061066,22.595764028435873,22.595764028435873,22.595764028435873,22.595764028435873,22.595764028435873],\"type\":\"bar\",\"xaxis\":\"x2\",\"yaxis\":\"y2\"},{\"x\":[\"Linear Regression\",\"Elastic Net Regression\",\"Support Vector Regressor\",\"Support Vector Regressor\",\"Decision Tree Regressor\",\"Random Forest Regressor\",\"K Means Clustring\",\"Birch Clustring\",\"K Means Clustring\",\"Birch Clustring\"],\"y\":[0.10910286461416108,0.09219187101803705,-0.012395162810162397,-0.012395162810162397,-0.68997706222736,0.14535058102069642,0.14535058102069642,0.14535058102069642,0.14535058102069642,0.14535058102069642],\"type\":\"bar\",\"xaxis\":\"x3\",\"yaxis\":\"y3\"}],                        {\"template\":{\"data\":{\"bar\":[{\"error_x\":{\"color\":\"#2a3f5f\"},\"error_y\":{\"color\":\"#2a3f5f\"},\"marker\":{\"line\":{\"color\":\"#E5ECF6\",\"width\":0.5},\"pattern\":{\"fillmode\":\"overlay\",\"size\":10,\"solidity\":0.2}},\"type\":\"bar\"}],\"barpolar\":[{\"marker\":{\"line\":{\"color\":\"#E5ECF6\",\"width\":0.5},\"pattern\":{\"fillmode\":\"overlay\",\"size\":10,\"solidity\":0.2}},\"type\":\"barpolar\"}],\"carpet\":[{\"aaxis\":{\"endlinecolor\":\"#2a3f5f\",\"gridcolor\":\"white\",\"linecolor\":\"white\",\"minorgridcolor\":\"white\",\"startlinecolor\":\"#2a3f5f\"},\"baxis\":{\"endlinecolor\":\"#2a3f5f\",\"gridcolor\":\"white\",\"linecolor\":\"white\",\"minorgridcolor\":\"white\",\"startlinecolor\":\"#2a3f5f\"},\"type\":\"carpet\"}],\"choropleth\":[{\"colorbar\":{\"outlinewidth\":0,\"ticks\":\"\"},\"type\":\"choropleth\"}],\"contour\":[{\"colorbar\":{\"outlinewidth\":0,\"ticks\":\"\"},\"colorscale\":[[0.0,\"#0d0887\"],[0.1111111111111111,\"#46039f\"],[0.2222222222222222,\"#7201a8\"],[0.3333333333333333,\"#9c179e\"],[0.4444444444444444,\"#bd3786\"],[0.5555555555555556,\"#d8576b\"],[0.6666666666666666,\"#ed7953\"],[0.7777777777777778,\"#fb9f3a\"],[0.8888888888888888,\"#fdca26\"],[1.0,\"#f0f921\"]],\"type\":\"contour\"}],\"contourcarpet\":[{\"colorbar\":{\"outlinewidth\":0,\"ticks\":\"\"},\"type\":\"contourcarpet\"}],\"heatmap\":[{\"colorbar\":{\"outlinewidth\":0,\"ticks\":\"\"},\"colorscale\":[[0.0,\"#0d0887\"],[0.1111111111111111,\"#46039f\"],[0.2222222222222222,\"#7201a8\"],[0.3333333333333333,\"#9c179e\"],[0.4444444444444444,\"#bd3786\"],[0.5555555555555556,\"#d8576b\"],[0.6666666666666666,\"#ed7953\"],[0.7777777777777778,\"#fb9f3a\"],[0.8888888888888888,\"#fdca26\"],[1.0,\"#f0f921\"]],\"type\":\"heatmap\"}],\"heatmapgl\":[{\"colorbar\":{\"outlinewidth\":0,\"ticks\":\"\"},\"colorscale\":[[0.0,\"#0d0887\"],[0.1111111111111111,\"#46039f\"],[0.2222222222222222,\"#7201a8\"],[0.3333333333333333,\"#9c179e\"],[0.4444444444444444,\"#bd3786\"],[0.5555555555555556,\"#d8576b\"],[0.6666666666666666,\"#ed7953\"],[0.7777777777777778,\"#fb9f3a\"],[0.8888888888888888,\"#fdca26\"],[1.0,\"#f0f921\"]],\"type\":\"heatmapgl\"}],\"histogram\":[{\"marker\":{\"pattern\":{\"fillmode\":\"overlay\",\"size\":10,\"solidity\":0.2}},\"type\":\"histogram\"}],\"histogram2d\":[{\"colorbar\":{\"outlinewidth\":0,\"ticks\":\"\"},\"colorscale\":[[0.0,\"#0d0887\"],[0.1111111111111111,\"#46039f\"],[0.2222222222222222,\"#7201a8\"],[0.3333333333333333,\"#9c179e\"],[0.4444444444444444,\"#bd3786\"],[0.5555555555555556,\"#d8576b\"],[0.6666666666666666,\"#ed7953\"],[0.7777777777777778,\"#fb9f3a\"],[0.8888888888888888,\"#fdca26\"],[1.0,\"#f0f921\"]],\"type\":\"histogram2d\"}],\"histogram2dcontour\":[{\"colorbar\":{\"outlinewidth\":0,\"ticks\":\"\"},\"colorscale\":[[0.0,\"#0d0887\"],[0.1111111111111111,\"#46039f\"],[0.2222222222222222,\"#7201a8\"],[0.3333333333333333,\"#9c179e\"],[0.4444444444444444,\"#bd3786\"],[0.5555555555555556,\"#d8576b\"],[0.6666666666666666,\"#ed7953\"],[0.7777777777777778,\"#fb9f3a\"],[0.8888888888888888,\"#fdca26\"],[1.0,\"#f0f921\"]],\"type\":\"histogram2dcontour\"}],\"mesh3d\":[{\"colorbar\":{\"outlinewidth\":0,\"ticks\":\"\"},\"type\":\"mesh3d\"}],\"parcoords\":[{\"line\":{\"colorbar\":{\"outlinewidth\":0,\"ticks\":\"\"}},\"type\":\"parcoords\"}],\"pie\":[{\"automargin\":true,\"type\":\"pie\"}],\"scatter\":[{\"marker\":{\"colorbar\":{\"outlinewidth\":0,\"ticks\":\"\"}},\"type\":\"scatter\"}],\"scatter3d\":[{\"line\":{\"colorbar\":{\"outlinewidth\":0,\"ticks\":\"\"}},\"marker\":{\"colorbar\":{\"outlinewidth\":0,\"ticks\":\"\"}},\"type\":\"scatter3d\"}],\"scattercarpet\":[{\"marker\":{\"colorbar\":{\"outlinewidth\":0,\"ticks\":\"\"}},\"type\":\"scattercarpet\"}],\"scattergeo\":[{\"marker\":{\"colorbar\":{\"outlinewidth\":0,\"ticks\":\"\"}},\"type\":\"scattergeo\"}],\"scattergl\":[{\"marker\":{\"colorbar\":{\"outlinewidth\":0,\"ticks\":\"\"}},\"type\":\"scattergl\"}],\"scattermapbox\":[{\"marker\":{\"colorbar\":{\"outlinewidth\":0,\"ticks\":\"\"}},\"type\":\"scattermapbox\"}],\"scatterpolar\":[{\"marker\":{\"colorbar\":{\"outlinewidth\":0,\"ticks\":\"\"}},\"type\":\"scatterpolar\"}],\"scatterpolargl\":[{\"marker\":{\"colorbar\":{\"outlinewidth\":0,\"ticks\":\"\"}},\"type\":\"scatterpolargl\"}],\"scatterternary\":[{\"marker\":{\"colorbar\":{\"outlinewidth\":0,\"ticks\":\"\"}},\"type\":\"scatterternary\"}],\"surface\":[{\"colorbar\":{\"outlinewidth\":0,\"ticks\":\"\"},\"colorscale\":[[0.0,\"#0d0887\"],[0.1111111111111111,\"#46039f\"],[0.2222222222222222,\"#7201a8\"],[0.3333333333333333,\"#9c179e\"],[0.4444444444444444,\"#bd3786\"],[0.5555555555555556,\"#d8576b\"],[0.6666666666666666,\"#ed7953\"],[0.7777777777777778,\"#fb9f3a\"],[0.8888888888888888,\"#fdca26\"],[1.0,\"#f0f921\"]],\"type\":\"surface\"}],\"table\":[{\"cells\":{\"fill\":{\"color\":\"#EBF0F8\"},\"line\":{\"color\":\"white\"}},\"header\":{\"fill\":{\"color\":\"#C8D4E3\"},\"line\":{\"color\":\"white\"}},\"type\":\"table\"}]},\"layout\":{\"annotationdefaults\":{\"arrowcolor\":\"#2a3f5f\",\"arrowhead\":0,\"arrowwidth\":1},\"autotypenumbers\":\"strict\",\"coloraxis\":{\"colorbar\":{\"outlinewidth\":0,\"ticks\":\"\"}},\"colorscale\":{\"diverging\":[[0,\"#8e0152\"],[0.1,\"#c51b7d\"],[0.2,\"#de77ae\"],[0.3,\"#f1b6da\"],[0.4,\"#fde0ef\"],[0.5,\"#f7f7f7\"],[0.6,\"#e6f5d0\"],[0.7,\"#b8e186\"],[0.8,\"#7fbc41\"],[0.9,\"#4d9221\"],[1,\"#276419\"]],\"sequential\":[[0.0,\"#0d0887\"],[0.1111111111111111,\"#46039f\"],[0.2222222222222222,\"#7201a8\"],[0.3333333333333333,\"#9c179e\"],[0.4444444444444444,\"#bd3786\"],[0.5555555555555556,\"#d8576b\"],[0.6666666666666666,\"#ed7953\"],[0.7777777777777778,\"#fb9f3a\"],[0.8888888888888888,\"#fdca26\"],[1.0,\"#f0f921\"]],\"sequentialminus\":[[0.0,\"#0d0887\"],[0.1111111111111111,\"#46039f\"],[0.2222222222222222,\"#7201a8\"],[0.3333333333333333,\"#9c179e\"],[0.4444444444444444,\"#bd3786\"],[0.5555555555555556,\"#d8576b\"],[0.6666666666666666,\"#ed7953\"],[0.7777777777777778,\"#fb9f3a\"],[0.8888888888888888,\"#fdca26\"],[1.0,\"#f0f921\"]]},\"colorway\":[\"#636efa\",\"#EF553B\",\"#00cc96\",\"#ab63fa\",\"#FFA15A\",\"#19d3f3\",\"#FF6692\",\"#B6E880\",\"#FF97FF\",\"#FECB52\"],\"font\":{\"color\":\"#2a3f5f\"},\"geo\":{\"bgcolor\":\"white\",\"lakecolor\":\"white\",\"landcolor\":\"#E5ECF6\",\"showlakes\":true,\"showland\":true,\"subunitcolor\":\"white\"},\"hoverlabel\":{\"align\":\"left\"},\"hovermode\":\"closest\",\"mapbox\":{\"style\":\"light\"},\"paper_bgcolor\":\"white\",\"plot_bgcolor\":\"#E5ECF6\",\"polar\":{\"angularaxis\":{\"gridcolor\":\"white\",\"linecolor\":\"white\",\"ticks\":\"\"},\"bgcolor\":\"#E5ECF6\",\"radialaxis\":{\"gridcolor\":\"white\",\"linecolor\":\"white\",\"ticks\":\"\"}},\"scene\":{\"xaxis\":{\"backgroundcolor\":\"#E5ECF6\",\"gridcolor\":\"white\",\"gridwidth\":2,\"linecolor\":\"white\",\"showbackground\":true,\"ticks\":\"\",\"zerolinecolor\":\"white\"},\"yaxis\":{\"backgroundcolor\":\"#E5ECF6\",\"gridcolor\":\"white\",\"gridwidth\":2,\"linecolor\":\"white\",\"showbackground\":true,\"ticks\":\"\",\"zerolinecolor\":\"white\"},\"zaxis\":{\"backgroundcolor\":\"#E5ECF6\",\"gridcolor\":\"white\",\"gridwidth\":2,\"linecolor\":\"white\",\"showbackground\":true,\"ticks\":\"\",\"zerolinecolor\":\"white\"}},\"shapedefaults\":{\"line\":{\"color\":\"#2a3f5f\"}},\"ternary\":{\"aaxis\":{\"gridcolor\":\"white\",\"linecolor\":\"white\",\"ticks\":\"\"},\"baxis\":{\"gridcolor\":\"white\",\"linecolor\":\"white\",\"ticks\":\"\"},\"bgcolor\":\"#E5ECF6\",\"caxis\":{\"gridcolor\":\"white\",\"linecolor\":\"white\",\"ticks\":\"\"}},\"title\":{\"x\":0.05},\"xaxis\":{\"automargin\":true,\"gridcolor\":\"white\",\"linecolor\":\"white\",\"ticks\":\"\",\"title\":{\"standoff\":15},\"zerolinecolor\":\"white\",\"zerolinewidth\":2},\"yaxis\":{\"automargin\":true,\"gridcolor\":\"white\",\"linecolor\":\"white\",\"ticks\":\"\",\"title\":{\"standoff\":15},\"zerolinecolor\":\"white\",\"zerolinewidth\":2}}},\"xaxis\":{\"anchor\":\"y\",\"domain\":[0.0,0.2888888888888889]},\"yaxis\":{\"anchor\":\"x\",\"domain\":[0.0,1.0]},\"xaxis2\":{\"anchor\":\"y2\",\"domain\":[0.35555555555555557,0.6444444444444445]},\"yaxis2\":{\"anchor\":\"x2\",\"domain\":[0.0,1.0]},\"xaxis3\":{\"anchor\":\"y3\",\"domain\":[0.7111111111111111,1.0]},\"yaxis3\":{\"anchor\":\"x3\",\"domain\":[0.0,1.0]},\"annotations\":[{\"font\":{\"size\":16},\"showarrow\":false,\"text\":\"MSE\",\"x\":0.14444444444444446,\"xanchor\":\"center\",\"xref\":\"paper\",\"y\":1.0,\"yanchor\":\"bottom\",\"yref\":\"paper\"},{\"font\":{\"size\":16},\"showarrow\":false,\"text\":\"RMSE\",\"x\":0.5,\"xanchor\":\"center\",\"xref\":\"paper\",\"y\":1.0,\"yanchor\":\"bottom\",\"yref\":\"paper\"},{\"font\":{\"size\":16},\"showarrow\":false,\"text\":\"R2\",\"x\":0.8555555555555556,\"xanchor\":\"center\",\"xref\":\"paper\",\"y\":1.0,\"yanchor\":\"bottom\",\"yref\":\"paper\"}]},                        {\"responsive\": true}                    ).then(function(){\n",
              "                            \n",
              "var gd = document.getElementById('fb2dab26-fa6e-4038-83bc-f672f0e98a63');\n",
              "var x = new MutationObserver(function (mutations, observer) {{\n",
              "        var display = window.getComputedStyle(gd).display;\n",
              "        if (!display || display === 'none') {{\n",
              "            console.log([gd, 'removed!']);\n",
              "            Plotly.purge(gd);\n",
              "            observer.disconnect();\n",
              "        }}\n",
              "}});\n",
              "\n",
              "// Listen for the removal of the full notebook cells\n",
              "var notebookContainer = gd.closest('#notebook-container');\n",
              "if (notebookContainer) {{\n",
              "    x.observe(notebookContainer, {childList: true});\n",
              "}}\n",
              "\n",
              "// Listen for the clearing of the current output cell\n",
              "var outputEl = gd.closest('.output');\n",
              "if (outputEl) {{\n",
              "    x.observe(outputEl, {childList: true});\n",
              "}}\n",
              "\n",
              "                        })                };                            </script>        </div>\n",
              "</body>\n",
              "</html>"
            ]
          },
          "metadata": {},
          "output_type": "display_data"
        }
      ],
      "source": [
        "\n",
        "#Model Analysis\n",
        "\n",
        "from plotly.subplots import make_subplots\n",
        "fig = make_subplots(rows=1,cols=3, subplot_titles=('MSE', \"RMSE\", \"R2\"))\n",
        "\n",
        "fig.add_bar(x=names, y=mses, row=1, col=1)\n",
        "fig.add_bar(x=names, y=rmses, row=1, col=2)\n",
        "fig.add_bar(x=names, y=r2s, row=1, col=3)"
      ]
    },
    {
      "cell_type": "code",
      "execution_count": null,
      "metadata": {
        "id": "6Und2kwWOlQX"
      },
      "outputs": [],
      "source": []
    }
  ],
  "metadata": {
    "colab": {
      "provenance": []
    },
    "kernelspec": {
      "display_name": "base",
      "language": "python",
      "name": "python3"
    },
    "language_info": {
      "name": "python",
      "version": "3.9.13 (main, Aug 25 2022, 18:29:29) \n[Clang 12.0.0 ]"
    },
    "vscode": {
      "interpreter": {
        "hash": "6260816ebb810eb41dbfa09ee1b05912123ff42860ea9d4a99fa405bf70a8e5b"
      }
    }
  },
  "nbformat": 4,
  "nbformat_minor": 0
}
